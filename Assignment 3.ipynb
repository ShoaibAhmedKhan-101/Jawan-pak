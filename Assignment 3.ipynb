{
 "cells": [
  {
   "cell_type": "code",
   "execution_count": 1,
   "metadata": {},
   "outputs": [],
   "source": [
    "#1. Write a Python program to print the following string in a specific format (see the\n",
    "# output).\n",
    "\n",
    "# Twinkle,twinkle,little star,\n",
    "#         How I wonder what you are!\n",
    "#                 Up above the world so high,\n",
    "#                 Like a diamond in the sky.\n",
    "\n",
    "# Twinkle,twinkle,little star,\n",
    "#         How I wonder what you are"
   ]
  },
  {
   "cell_type": "code",
   "execution_count": 2,
   "metadata": {},
   "outputs": [
    {
     "name": "stdout",
     "output_type": "stream",
     "text": [
      "Twinkle,twinkle,little star,\n",
      "\tHow I wonder what you are!\n",
      "\t\tUp above the world so high,\n",
      "\t\tLike a diamond in the sky.\n",
      "\n",
      "Twinkle,twinkle,little star,\n",
      "\tHow I wonder what you are\n"
     ]
    }
   ],
   "source": [
    "print(\"Twinkle,twinkle,little star,\\n\\tHow I wonder what you are!\\n\\t\\tUp above the world so high,\\n\\t\\tLike a diamond in the sky.\\n\\nTwinkle,twinkle,little star,\\n\\tHow I wonder what you are\")"
   ]
  },
  {
   "cell_type": "code",
   "execution_count": 3,
   "metadata": {},
   "outputs": [],
   "source": [
    "#2. Write a Python program to get the Python version you are using."
   ]
  },
  {
   "cell_type": "code",
   "execution_count": 4,
   "metadata": {},
   "outputs": [
    {
     "name": "stdout",
     "output_type": "stream",
     "text": [
      "3.7.4\n"
     ]
    }
   ],
   "source": [
    "from platform import python_version\n",
    "print(python_version())"
   ]
  },
  {
   "cell_type": "code",
   "execution_count": 5,
   "metadata": {},
   "outputs": [],
   "source": [
    "#3. Write a Python program to display the current date and time."
   ]
  },
  {
   "cell_type": "code",
   "execution_count": 6,
   "metadata": {},
   "outputs": [
    {
     "name": "stdout",
     "output_type": "stream",
     "text": [
      "2021-10-24 16:56:25.288395\n"
     ]
    }
   ],
   "source": [
    "import datetime \n",
    "print(datetime.datetime.now())"
   ]
  },
  {
   "cell_type": "code",
   "execution_count": 7,
   "metadata": {},
   "outputs": [],
   "source": [
    "#4. Write a Python program which accepts the radius of a circle from the user and compute the area."
   ]
  },
  {
   "cell_type": "code",
   "execution_count": 5,
   "metadata": {},
   "outputs": [
    {
     "name": "stdout",
     "output_type": "stream",
     "text": [
      "For area please enter radius: 45\n",
      "6361.725123519331\n"
     ]
    }
   ],
   "source": [
    "import math\n",
    "radius = int(input(\"For area please enter radius: \"))\n",
    "print(math.pi*radius**2)"
   ]
  },
  {
   "cell_type": "code",
   "execution_count": null,
   "metadata": {},
   "outputs": [],
   "source": [
    "#5. Write a Python program which accepts the user's first and last name and print them in reverse order with a space between them."
   ]
  },
  {
   "cell_type": "code",
   "execution_count": 12,
   "metadata": {},
   "outputs": [
    {
     "name": "stdout",
     "output_type": "stream",
     "text": [
      "Enter your first name: shoaib\n",
      "Enter your last name: khan\n",
      "Welcome! khan shoaib\n"
     ]
    }
   ],
   "source": [
    "first = input(\"Enter your first name: \")\n",
    "last = input(\"Enter your last name: \")\n",
    "print(\"Welcome!\",last,first)"
   ]
  },
  {
   "cell_type": "code",
   "execution_count": null,
   "metadata": {},
   "outputs": [],
   "source": [
    "#6. Write a python program which takes two inputs from user and print them addition."
   ]
  },
  {
   "cell_type": "code",
   "execution_count": 15,
   "metadata": {},
   "outputs": [
    {
     "name": "stdout",
     "output_type": "stream",
     "text": [
      "Enter first number: 78\n",
      "Enter second number: 2\n",
      "80\n"
     ]
    }
   ],
   "source": [
    "input_1 = int(input(\"Enter first number: \"))\n",
    "input_2 = int(input(\"Enter second number: \"))\n",
    "print(input_1 + input_2)"
   ]
  },
  {
   "cell_type": "code",
   "execution_count": null,
   "metadata": {},
   "outputs": [],
   "source": [
    "#7. Write a program which takes 5 inputs from user for different subject’s marks, total it and generate mark sheet using grades ?"
   ]
  },
    {
   "cell_type": "code",
   "execution_count": 30,
   "metadata": {},
   "outputs": [
    {
     "name": "stdout",
     "output_type": "stream",
     "text": [
      "Enter marks for given subjects\n",
      "English : 85\n",
      "Islamiat : 89\n",
      "Math : 74\n",
      "Science : 72\n",
      "Urdu : 66\n",
      "Percentage: 77.2 %\n",
      "Grade A\n"
     ]
    }
   ],
   "source": [
    "print(\"Enter marks for given subjects\")\n",
    "eng = int(input(\"English : \"))\n",
    "isl = int(input(\"Islamiat : \"))\n",
    "math = int(input(\"Math : \"))\n",
    "sci = int(input(\"Science : \"))\n",
    "urdu = int(input(\"Urdu : \"))\n",
    "total_marks = 500\n",
    "percentage = ((eng + isl + math + sci + urdu)/total_marks)*100\n",
    "print(\"Percentage:\",str(percentage),\"%\")\n",
    "if percentage >= 80 and percentage <= 100 :\n",
    "    print(\"Grade A+\")\n",
    "elif percentage >= 70 and percentage < 80 :\n",
    "    print(\"Grade A\")\n",
    "elif percentage >= 60 and percentage < 70 :\n",
    "    print(\"Grade B\")\n",
    "elif percentage >= 50 and percentage < 60 :\n",
    "    print(\"Grade C\")\n",
    "else :\n",
    "    print(\"Fail\")"
   ]
  },
  {
   "cell_type": "code",
   "execution_count": 15,
   "metadata": {},
   "outputs": [],
   "source": [
    "#8. Write a program which take input from user and identify that the given number is even or odd?"
   ]
  },
  {
   "cell_type": "code",
   "execution_count": 19,
   "metadata": {},
   "outputs": [
    {
     "name": "stdout",
     "output_type": "stream",
     "text": [
      "Enter number to identify even or odd: 45\n",
      "Number 45 is odd.\n"
     ]
    }
   ],
   "source": [
    "even_odd = int(input(\"Enter number to identify even or odd: \"))\n",
    "if even_odd % 2 == 0:\n",
    "    print(\"number is even.\")\n",
    "else:\n",
    "    print(\"Number\",even_odd,\"is odd.\")"
   ]
  },
  {
   "cell_type": "code",
   "execution_count": null,
   "metadata": {},
   "outputs": [],
   "source": [
    "#9. Write a program which print the length of the list?"
   ]
  },
  {
   "cell_type": "code",
   "execution_count": 22,
   "metadata": {},
   "outputs": [
    {
     "name": "stdout",
     "output_type": "stream",
     "text": [
      "5\n"
     ]
    }
   ],
   "source": [
    "user_list = [\"apple\",\"banana\",\"orange\",\"peach\",\"mango\"]\n",
    "print(len(user_list))"
   ]
  },
  {
   "cell_type": "code",
   "execution_count": null,
   "metadata": {},
   "outputs": [],
   "source": [
    "#10. Write a Python program to sum all the numeric items in a list?"
   ]
  },
  {
   "cell_type": "code",
   "execution_count": 25,
   "metadata": {},
   "outputs": [
    {
     "name": "stdout",
     "output_type": "stream",
     "text": [
      "39\n"
     ]
    }
   ],
   "source": [
    "list_number = [2,6,9,7,8,2,4,1]\n",
    "total = 0\n",
    "for x in list_number:\n",
    "    total += x\n",
    "print(total)"
   ]
  },
  {
   "cell_type": "code",
   "execution_count": null,
   "metadata": {},
   "outputs": [],
   "source": [
    "#11. Write a Python program to get the largest number from a numeric list."
   ]
  },
  {
   "cell_type": "code",
   "execution_count": 26,
   "metadata": {},
   "outputs": [
    {
     "name": "stdout",
     "output_type": "stream",
     "text": [
      "89\n"
     ]
    }
   ],
   "source": [
    "number_list = [45,78,66,10,50,69,47,22,89,27]\n",
    "print(max(number_list))"
   ]
  },
  {
   "cell_type": "code",
   "execution_count": null,
   "metadata": {},
   "outputs": [],
   "source": [
    "#12. Take a list, say for example this one: a = [1, 1, 2, 3, 5, 8, 13, 21, 34, 55, 89] Write a program that prints out all the elements of the list that are less than 5."
   ]
  },
  {
   "cell_type": "code",
   "execution_count": 27,
   "metadata": {},
   "outputs": [
    {
     "name": "stdout",
     "output_type": "stream",
     "text": [
      "1\n",
      "1\n",
      "2\n",
      "3\n"
     ]
    }
   ],
   "source": [
    "a = [1, 1, 2, 3, 5, 8, 13, 21, 34, 55, 89]\n",
    "for x in a:\n",
    "    if x < 5:\n",
    "        print(x)"
   ]
  }
 ],
 "metadata": {
  "kernelspec": {
   "display_name": "Python 3",
   "language": "python",
   "name": "python3"
  },
  "language_info": {
   "codemirror_mode": {
    "name": "ipython",
    "version": 3
   },
   "file_extension": ".py",
   "mimetype": "text/x-python",
   "name": "python",
   "nbconvert_exporter": "python",
   "pygments_lexer": "ipython3",
   "version": "3.7.4"
  }
 },
 "nbformat": 4,
 "nbformat_minor": 2
}
